{
 "cells": [
  {
   "cell_type": "markdown",
   "metadata": {},
   "source": [
    "Notebook to try to connect to the gophish api"
   ]
  },
  {
   "cell_type": "code",
   "execution_count": 4,
   "metadata": {},
   "outputs": [],
   "source": [
    "from gophish import Gophish"
   ]
  },
  {
   "cell_type": "code",

   "execution_count": 6,
   "metadata": {},
   "outputs": [],
   "source": [
    "# Define a function to read the API key from a file\n",
    "def read_file(file_path):\n",
    "\twith open(file_path, 'r') as file:\n",
    "\t\treturn file.read().strip()\n",
    "\n",
    "api_key = read_file('api_key.txt')\n",
    "\n"

   ]
  },
  {
   "cell_type": "code",
   "execution_count": 5,

   "metadata": {},
   "outputs": [
    {
     "name": "stdout",
     "output_type": "stream",
     "text": [
      "14\n"

     ]
    },
    {
     "name": "stderr",
     "output_type": "stream",
     "text": [

      "c:\\Users\\nicol\\GitHub Repo's\\proximus_anti_phishing\\.venv\\Lib\\site-packages\\urllib3\\connectionpool.py:981: InsecureRequestWarning: Unverified HTTPS request is being made to host '127.0.0.1'. Adding certificate verification is strongly advised. See: https://urllib3.readthedocs.io/en/latest/advanced-usage.html#ssl-warnings\n",
      "  warnings.warn(\n",
      "c:\\Users\\nicol\\GitHub Repo's\\proximus_anti_phishing\\.venv\\Lib\\site-packages\\urllib3\\connectionpool.py:981: InsecureRequestWarning: Unverified HTTPS request is being made to host '127.0.0.1'. Adding certificate verification is strongly advised. See: https://urllib3.readthedocs.io/en/latest/advanced-usage.html#ssl-warnings\n",
      "  warnings.warn(\n"
     ]
    }
   ],
   "source": [
    "from gophish import Gophish\n",
    "from gophish.models import *\n",
    "\n",

    "api = Gophish(api_key, host='https://127.0.0.1:3333', verify=False)\n",
    "\n",
    "targets = [\n",
    "    User(first_name='John', last_name='Doe', email='nicolaasdeclercq@hotmail.com'),\n",
    "    User(first_name='Jane', last_name='Doe', email='nicolaasdeclercq@gmail.com')]\n",
    "\n",
    "group = Group(name='Doe Company', targets=targets)\n",
    "group = api.groups.post(group)\n",
    "\n",
    "groups = [group]\n",
    "page = Page(name='google')\n",
    "template = Template(name='Test')\n",
    "smtp = SMTP(name='Test')\n",
    "url = 'www.google.com'\n",
    "campaign = Campaign(\n",
    "    name='Example Campaign', groups=groups, page=page,\n",
    "    template=template, smtp=smtp)\n",
    "\n",
    "campaign = api.campaigns.post(campaign)\n",
    "print(campaign.id)"
   ]
  },
  {
   "cell_type": "code",

   "execution_count": 7,

   "metadata": {},
   "outputs": [
    {
     "name": "stdout",
     "output_type": "stream",
     "text": [
      "Copy of Test\n",
      "Copy of Copy of Test\n",
      "Example Campaign\n",
      "Example Campaign\n",
      "Example Campaign\n",

      "Example Campaign\n",
      "Example Campaign\n"
     ]
    },
    {
     "name": "stderr",
     "output_type": "stream",
     "text": [
      "c:\\Users\\nicol\\GitHub Repo's\\proximus_anti_phishing\\.venv\\Lib\\site-packages\\urllib3\\connectionpool.py:981: InsecureRequestWarning: Unverified HTTPS request is being made to host '127.0.0.1'. Adding certificate verification is strongly advised. See: https://urllib3.readthedocs.io/en/latest/advanced-usage.html#ssl-warnings\n",
      "  warnings.warn(\n"
     ]

    }
   ],
   "source": [
    "for campaign in api.campaigns.get():\n",
    "    print(campaign.name)"
   ]
  }
 ],
 "metadata": {
  "kernelspec": {
   "display_name": ".venv",
   "language": "python",
   "name": "python3"
  },
  "language_info": {
   "codemirror_mode": {
    "name": "ipython",
    "version": 3
   },
   "file_extension": ".py",
   "mimetype": "text/x-python",
   "name": "python",
   "nbconvert_exporter": "python",
   "pygments_lexer": "ipython3",
   "version": "3.11.9"
  }
 },
 "nbformat": 4,
 "nbformat_minor": 2
}
