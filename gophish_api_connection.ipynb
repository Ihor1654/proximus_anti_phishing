{
 "cells": [
  {
   "cell_type": "markdown",
   "metadata": {},
   "source": [
    "Notebook to try to connect to the gophish api"
   ]
  },
  {
   "cell_type": "code",
   "execution_count": 4,
   "metadata": {},
   "outputs": [],
   "source": [
    "from gophish import Gophish"
   ]
  },
  {
   "cell_type": "code",
   "execution_count": 24,
   "metadata": {},
   "outputs": [],
   "source": [
    "api_key = 'c42a36805bc8faf525f986f9417933b4896c9fe8d5ebb595b3cd430d36a32a8e'\n",
    "api = Gophish(api_key, host='https://127.0.0.1:3333', verify=False)"
   ]
  },
  {
   "cell_type": "code",
   "execution_count": 15,
   "metadata": {},
   "outputs": [
    {
     "name": "stdout",
     "output_type": "stream",
     "text": [
      "Copy of Test\n",
      "Copy of Copy of Test\n"
     ]
    },
    {
     "name": "stderr",
     "output_type": "stream",
     "text": [
      "c:\\Users\\nicol\\GitHub Repo's\\proximus_anti_phishing\\.venv\\Lib\\site-packages\\urllib3\\connectionpool.py:1097: InsecureRequestWarning: Unverified HTTPS request is being made to host '127.0.0.1'. Adding certificate verification is strongly advised. See: https://urllib3.readthedocs.io/en/latest/advanced-usage.html#tls-warnings\n",
      "  warnings.warn(\n"
     ]
    }
   ],
   "source": [
    "for campaign in api.campaigns.get():\n",
    "    print(campaign.name)"
   ]
  },
  {
   "cell_type": "code",
   "execution_count": 26,
   "metadata": {},
   "outputs": [
    {
     "name": "stdout",
     "output_type": "stream",
     "text": [
      "10\n"
     ]
    }
   ],
   "source": [
    "from gophish import Gophish\n",
    "from gophish.models import *\n",
    "\n",
    "api_key = 'c42a36805bc8faf525f986f9417933b4896c9fe8d5ebb595b3cd430d36a32a8e'\n",
    "api = Gophish(api_key, host='https://127.0.0.1:3333', verify=False)\n",
    "\n",
    "groups = [Group(name='Test')]\n",
    "page = Page(name='google')\n",
    "template = Template(name='Test')\n",
    "smtp = SMTP(name='Test')\n",
    "url = 'www.google.com'\n",
    "campaign = Campaign(\n",
    "    name='Example Campaign', groups=groups, page=page,\n",
    "    template=template, smtp=smtp)\n",
    "\n",
    "campaign = api.campaigns.post(campaign)\n",
    "print(campaign.id)"
   ]
  },
  {
   "cell_type": "code",
   "execution_count": 27,
   "metadata": {},
   "outputs": [
    {
     "name": "stdout",
     "output_type": "stream",
     "text": [
      "Copy of Test\n",
      "Copy of Copy of Test\n",
      "Example Campaign\n"
     ]
    }
   ],
   "source": [
    "for campaign in api.campaigns.get():\n",
    "    print(campaign.name)"
   ]
  }
 ],
 "metadata": {
  "kernelspec": {
   "display_name": ".venv",
   "language": "python",
   "name": "python3"
  },
  "language_info": {
   "codemirror_mode": {
    "name": "ipython",
    "version": 3
   },
   "file_extension": ".py",
   "mimetype": "text/x-python",
   "name": "python",
   "nbconvert_exporter": "python",
   "pygments_lexer": "ipython3",
   "version": "3.11.9"
  }
 },
 "nbformat": 4,
 "nbformat_minor": 2
}
